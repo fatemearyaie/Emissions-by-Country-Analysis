{
 "cells": [
  {
   "cell_type": "markdown",
   "id": "0290ebc1",
   "metadata": {},
   "source": [
    "# Emissions by Country 2022 Analysis"
   ]
  },
  {
   "cell_type": "markdown",
   "id": "a4756617",
   "metadata": {},
   "source": [
    "## import libraries"
   ]
  },
  {
   "cell_type": "code",
   "execution_count": 84,
   "id": "0db6a6a6",
   "metadata": {},
   "outputs": [],
   "source": [
    "import numpy as np\n",
    "import pandas as pd\n",
    "import matplotlib.pyplot as plt\n",
    "import seaborn as sns\n",
    "import plotly.express as px"
   ]
  },
  {
   "cell_type": "code",
   "execution_count": 121,
   "id": "689b7968",
   "metadata": {},
   "outputs": [],
   "source": [
    "df = pd.read_csv(\"https://raw.githubusercontent.com/fatemearyaie/Emissions-by-Country/main/GCB2022v27_MtCO2_flat.csv\")"
   ]
  },
  {
   "cell_type": "code",
   "execution_count": 86,
   "id": "5fd5ce1c",
   "metadata": {},
   "outputs": [
    {
     "data": {
      "text/html": [
       "<div>\n",
       "<style scoped>\n",
       "    .dataframe tbody tr th:only-of-type {\n",
       "        vertical-align: middle;\n",
       "    }\n",
       "\n",
       "    .dataframe tbody tr th {\n",
       "        vertical-align: top;\n",
       "    }\n",
       "\n",
       "    .dataframe thead th {\n",
       "        text-align: right;\n",
       "    }\n",
       "</style>\n",
       "<table border=\"1\" class=\"dataframe\">\n",
       "  <thead>\n",
       "    <tr style=\"text-align: right;\">\n",
       "      <th></th>\n",
       "      <th>Country</th>\n",
       "      <th>ISO 3166-1 alpha-3</th>\n",
       "      <th>Year</th>\n",
       "      <th>Total</th>\n",
       "      <th>Coal</th>\n",
       "      <th>Oil</th>\n",
       "      <th>Gas</th>\n",
       "      <th>Cement</th>\n",
       "      <th>Flaring</th>\n",
       "      <th>Other</th>\n",
       "      <th>Per Capita</th>\n",
       "    </tr>\n",
       "  </thead>\n",
       "  <tbody>\n",
       "    <tr>\n",
       "      <th>0</th>\n",
       "      <td>Afghanistan</td>\n",
       "      <td>AFG</td>\n",
       "      <td>1750</td>\n",
       "      <td>0.0</td>\n",
       "      <td>NaN</td>\n",
       "      <td>NaN</td>\n",
       "      <td>NaN</td>\n",
       "      <td>NaN</td>\n",
       "      <td>NaN</td>\n",
       "      <td>NaN</td>\n",
       "      <td>NaN</td>\n",
       "    </tr>\n",
       "    <tr>\n",
       "      <th>1</th>\n",
       "      <td>Afghanistan</td>\n",
       "      <td>AFG</td>\n",
       "      <td>1751</td>\n",
       "      <td>0.0</td>\n",
       "      <td>NaN</td>\n",
       "      <td>NaN</td>\n",
       "      <td>NaN</td>\n",
       "      <td>NaN</td>\n",
       "      <td>NaN</td>\n",
       "      <td>NaN</td>\n",
       "      <td>NaN</td>\n",
       "    </tr>\n",
       "    <tr>\n",
       "      <th>2</th>\n",
       "      <td>Afghanistan</td>\n",
       "      <td>AFG</td>\n",
       "      <td>1752</td>\n",
       "      <td>0.0</td>\n",
       "      <td>NaN</td>\n",
       "      <td>NaN</td>\n",
       "      <td>NaN</td>\n",
       "      <td>NaN</td>\n",
       "      <td>NaN</td>\n",
       "      <td>NaN</td>\n",
       "      <td>NaN</td>\n",
       "    </tr>\n",
       "    <tr>\n",
       "      <th>3</th>\n",
       "      <td>Afghanistan</td>\n",
       "      <td>AFG</td>\n",
       "      <td>1753</td>\n",
       "      <td>0.0</td>\n",
       "      <td>NaN</td>\n",
       "      <td>NaN</td>\n",
       "      <td>NaN</td>\n",
       "      <td>NaN</td>\n",
       "      <td>NaN</td>\n",
       "      <td>NaN</td>\n",
       "      <td>NaN</td>\n",
       "    </tr>\n",
       "    <tr>\n",
       "      <th>4</th>\n",
       "      <td>Afghanistan</td>\n",
       "      <td>AFG</td>\n",
       "      <td>1754</td>\n",
       "      <td>0.0</td>\n",
       "      <td>NaN</td>\n",
       "      <td>NaN</td>\n",
       "      <td>NaN</td>\n",
       "      <td>NaN</td>\n",
       "      <td>NaN</td>\n",
       "      <td>NaN</td>\n",
       "      <td>NaN</td>\n",
       "    </tr>\n",
       "  </tbody>\n",
       "</table>\n",
       "</div>"
      ],
      "text/plain": [
       "       Country ISO 3166-1 alpha-3  Year  Total  Coal  Oil  Gas  Cement  \\\n",
       "0  Afghanistan                AFG  1750    0.0   NaN  NaN  NaN     NaN   \n",
       "1  Afghanistan                AFG  1751    0.0   NaN  NaN  NaN     NaN   \n",
       "2  Afghanistan                AFG  1752    0.0   NaN  NaN  NaN     NaN   \n",
       "3  Afghanistan                AFG  1753    0.0   NaN  NaN  NaN     NaN   \n",
       "4  Afghanistan                AFG  1754    0.0   NaN  NaN  NaN     NaN   \n",
       "\n",
       "   Flaring  Other  Per Capita  \n",
       "0      NaN    NaN         NaN  \n",
       "1      NaN    NaN         NaN  \n",
       "2      NaN    NaN         NaN  \n",
       "3      NaN    NaN         NaN  \n",
       "4      NaN    NaN         NaN  "
      ]
     },
     "execution_count": 86,
     "metadata": {},
     "output_type": "execute_result"
    }
   ],
   "source": [
    "df.head()"
   ]
  },
  {
   "cell_type": "code",
   "execution_count": 87,
   "id": "08c29add",
   "metadata": {},
   "outputs": [
    {
     "data": {
      "text/html": [
       "<div>\n",
       "<style scoped>\n",
       "    .dataframe tbody tr th:only-of-type {\n",
       "        vertical-align: middle;\n",
       "    }\n",
       "\n",
       "    .dataframe tbody tr th {\n",
       "        vertical-align: top;\n",
       "    }\n",
       "\n",
       "    .dataframe thead th {\n",
       "        text-align: right;\n",
       "    }\n",
       "</style>\n",
       "<table border=\"1\" class=\"dataframe\">\n",
       "  <thead>\n",
       "    <tr style=\"text-align: right;\">\n",
       "      <th></th>\n",
       "      <th>Country</th>\n",
       "      <th>ISO 3166-1 alpha-3</th>\n",
       "      <th>Year</th>\n",
       "      <th>Total</th>\n",
       "      <th>Coal</th>\n",
       "      <th>Oil</th>\n",
       "      <th>Gas</th>\n",
       "      <th>Cement</th>\n",
       "      <th>Flaring</th>\n",
       "      <th>Other</th>\n",
       "      <th>Per Capita</th>\n",
       "    </tr>\n",
       "  </thead>\n",
       "  <tbody>\n",
       "    <tr>\n",
       "      <th>63099</th>\n",
       "      <td>Global</td>\n",
       "      <td>WLD</td>\n",
       "      <td>2017</td>\n",
       "      <td>36096.739276</td>\n",
       "      <td>14506.973805</td>\n",
       "      <td>12242.627935</td>\n",
       "      <td>7144.928128</td>\n",
       "      <td>1507.923185</td>\n",
       "      <td>391.992176</td>\n",
       "      <td>302.294047</td>\n",
       "      <td>4.749682</td>\n",
       "    </tr>\n",
       "    <tr>\n",
       "      <th>63100</th>\n",
       "      <td>Global</td>\n",
       "      <td>WLD</td>\n",
       "      <td>2018</td>\n",
       "      <td>36826.506600</td>\n",
       "      <td>14746.830688</td>\n",
       "      <td>12266.016285</td>\n",
       "      <td>7529.846784</td>\n",
       "      <td>1569.218392</td>\n",
       "      <td>412.115746</td>\n",
       "      <td>302.478706</td>\n",
       "      <td>4.792753</td>\n",
       "    </tr>\n",
       "    <tr>\n",
       "      <th>63101</th>\n",
       "      <td>Global</td>\n",
       "      <td>WLD</td>\n",
       "      <td>2019</td>\n",
       "      <td>37082.558969</td>\n",
       "      <td>14725.978025</td>\n",
       "      <td>12345.653374</td>\n",
       "      <td>7647.528220</td>\n",
       "      <td>1617.506786</td>\n",
       "      <td>439.253991</td>\n",
       "      <td>306.638573</td>\n",
       "      <td>4.775633</td>\n",
       "    </tr>\n",
       "    <tr>\n",
       "      <th>63102</th>\n",
       "      <td>Global</td>\n",
       "      <td>WLD</td>\n",
       "      <td>2020</td>\n",
       "      <td>35264.085734</td>\n",
       "      <td>14174.564010</td>\n",
       "      <td>11191.808551</td>\n",
       "      <td>7556.290283</td>\n",
       "      <td>1637.537532</td>\n",
       "      <td>407.583673</td>\n",
       "      <td>296.301685</td>\n",
       "      <td>4.497423</td>\n",
       "    </tr>\n",
       "    <tr>\n",
       "      <th>63103</th>\n",
       "      <td>Global</td>\n",
       "      <td>WLD</td>\n",
       "      <td>2021</td>\n",
       "      <td>37123.850352</td>\n",
       "      <td>14979.598083</td>\n",
       "      <td>11837.159116</td>\n",
       "      <td>7921.829472</td>\n",
       "      <td>1672.592372</td>\n",
       "      <td>416.525563</td>\n",
       "      <td>296.145746</td>\n",
       "      <td>4.693699</td>\n",
       "    </tr>\n",
       "  </tbody>\n",
       "</table>\n",
       "</div>"
      ],
      "text/plain": [
       "      Country ISO 3166-1 alpha-3  Year         Total          Coal  \\\n",
       "63099  Global                WLD  2017  36096.739276  14506.973805   \n",
       "63100  Global                WLD  2018  36826.506600  14746.830688   \n",
       "63101  Global                WLD  2019  37082.558969  14725.978025   \n",
       "63102  Global                WLD  2020  35264.085734  14174.564010   \n",
       "63103  Global                WLD  2021  37123.850352  14979.598083   \n",
       "\n",
       "                Oil          Gas       Cement     Flaring       Other  \\\n",
       "63099  12242.627935  7144.928128  1507.923185  391.992176  302.294047   \n",
       "63100  12266.016285  7529.846784  1569.218392  412.115746  302.478706   \n",
       "63101  12345.653374  7647.528220  1617.506786  439.253991  306.638573   \n",
       "63102  11191.808551  7556.290283  1637.537532  407.583673  296.301685   \n",
       "63103  11837.159116  7921.829472  1672.592372  416.525563  296.145746   \n",
       "\n",
       "       Per Capita  \n",
       "63099    4.749682  \n",
       "63100    4.792753  \n",
       "63101    4.775633  \n",
       "63102    4.497423  \n",
       "63103    4.693699  "
      ]
     },
     "execution_count": 87,
     "metadata": {},
     "output_type": "execute_result"
    }
   ],
   "source": [
    "df.tail()"
   ]
  },
  {
   "cell_type": "code",
   "execution_count": 88,
   "id": "51281071",
   "metadata": {},
   "outputs": [
    {
     "name": "stdout",
     "output_type": "stream",
     "text": [
      "<class 'pandas.core.frame.DataFrame'>\n",
      "RangeIndex: 63104 entries, 0 to 63103\n",
      "Data columns (total 11 columns):\n",
      " #   Column              Non-Null Count  Dtype  \n",
      "---  ------              --------------  -----  \n",
      " 0   Country             63104 non-null  object \n",
      " 1   ISO 3166-1 alpha-3  61472 non-null  object \n",
      " 2   Year                63104 non-null  int64  \n",
      " 3   Total               62904 non-null  float64\n",
      " 4   Coal                21744 non-null  float64\n",
      " 5   Oil                 21717 non-null  float64\n",
      " 6   Gas                 21618 non-null  float64\n",
      " 7   Cement              20814 non-null  float64\n",
      " 8   Flaring             21550 non-null  float64\n",
      " 9   Other               1620 non-null   float64\n",
      " 10  Per Capita          18974 non-null  float64\n",
      "dtypes: float64(8), int64(1), object(2)\n",
      "memory usage: 5.3+ MB\n"
     ]
    }
   ],
   "source": [
    "df.info()"
   ]
  },
  {
   "cell_type": "code",
   "execution_count": 89,
   "id": "522dc94d",
   "metadata": {
    "scrolled": true
   },
   "outputs": [
    {
     "data": {
      "text/html": [
       "<div>\n",
       "<style scoped>\n",
       "    .dataframe tbody tr th:only-of-type {\n",
       "        vertical-align: middle;\n",
       "    }\n",
       "\n",
       "    .dataframe tbody tr th {\n",
       "        vertical-align: top;\n",
       "    }\n",
       "\n",
       "    .dataframe thead th {\n",
       "        text-align: right;\n",
       "    }\n",
       "</style>\n",
       "<table border=\"1\" class=\"dataframe\">\n",
       "  <thead>\n",
       "    <tr style=\"text-align: right;\">\n",
       "      <th></th>\n",
       "      <th>Year</th>\n",
       "      <th>Total</th>\n",
       "      <th>Coal</th>\n",
       "      <th>Oil</th>\n",
       "      <th>Gas</th>\n",
       "      <th>Cement</th>\n",
       "      <th>Flaring</th>\n",
       "      <th>Other</th>\n",
       "      <th>Per Capita</th>\n",
       "    </tr>\n",
       "  </thead>\n",
       "  <tbody>\n",
       "    <tr>\n",
       "      <th>count</th>\n",
       "      <td>63104.000000</td>\n",
       "      <td>62904.000000</td>\n",
       "      <td>21744.000000</td>\n",
       "      <td>21717.000000</td>\n",
       "      <td>21618.000000</td>\n",
       "      <td>20814.000000</td>\n",
       "      <td>21550.000000</td>\n",
       "      <td>1620.000000</td>\n",
       "      <td>18974.000000</td>\n",
       "    </tr>\n",
       "    <tr>\n",
       "      <th>mean</th>\n",
       "      <td>1885.500000</td>\n",
       "      <td>55.224788</td>\n",
       "      <td>73.968916</td>\n",
       "      <td>55.760624</td>\n",
       "      <td>23.504285</td>\n",
       "      <td>4.330443</td>\n",
       "      <td>1.712695</td>\n",
       "      <td>10.951389</td>\n",
       "      <td>4.413363</td>\n",
       "    </tr>\n",
       "    <tr>\n",
       "      <th>std</th>\n",
       "      <td>78.519728</td>\n",
       "      <td>824.845435</td>\n",
       "      <td>598.986992</td>\n",
       "      <td>519.034563</td>\n",
       "      <td>247.674772</td>\n",
       "      <td>50.305770</td>\n",
       "      <td>16.727067</td>\n",
       "      <td>39.034073</td>\n",
       "      <td>17.432815</td>\n",
       "    </tr>\n",
       "    <tr>\n",
       "      <th>min</th>\n",
       "      <td>1750.000000</td>\n",
       "      <td>0.000000</td>\n",
       "      <td>0.000000</td>\n",
       "      <td>0.000000</td>\n",
       "      <td>0.000000</td>\n",
       "      <td>0.000000</td>\n",
       "      <td>0.000000</td>\n",
       "      <td>0.000000</td>\n",
       "      <td>0.000000</td>\n",
       "    </tr>\n",
       "    <tr>\n",
       "      <th>25%</th>\n",
       "      <td>1817.750000</td>\n",
       "      <td>0.000000</td>\n",
       "      <td>0.000000</td>\n",
       "      <td>0.091600</td>\n",
       "      <td>0.000000</td>\n",
       "      <td>0.000000</td>\n",
       "      <td>0.000000</td>\n",
       "      <td>0.520885</td>\n",
       "      <td>0.197866</td>\n",
       "    </tr>\n",
       "    <tr>\n",
       "      <th>50%</th>\n",
       "      <td>1885.500000</td>\n",
       "      <td>0.000000</td>\n",
       "      <td>0.271852</td>\n",
       "      <td>1.044240</td>\n",
       "      <td>0.000000</td>\n",
       "      <td>0.022756</td>\n",
       "      <td>0.000000</td>\n",
       "      <td>1.255329</td>\n",
       "      <td>1.303949</td>\n",
       "    </tr>\n",
       "    <tr>\n",
       "      <th>75%</th>\n",
       "      <td>1953.250000</td>\n",
       "      <td>0.549342</td>\n",
       "      <td>6.736411</td>\n",
       "      <td>8.339752</td>\n",
       "      <td>0.581628</td>\n",
       "      <td>0.568502</td>\n",
       "      <td>0.000000</td>\n",
       "      <td>4.385471</td>\n",
       "      <td>5.077994</td>\n",
       "    </tr>\n",
       "    <tr>\n",
       "      <th>max</th>\n",
       "      <td>2021.000000</td>\n",
       "      <td>37123.850352</td>\n",
       "      <td>15051.512770</td>\n",
       "      <td>12345.653374</td>\n",
       "      <td>7921.829472</td>\n",
       "      <td>1672.592372</td>\n",
       "      <td>439.253991</td>\n",
       "      <td>306.638573</td>\n",
       "      <td>834.192642</td>\n",
       "    </tr>\n",
       "  </tbody>\n",
       "</table>\n",
       "</div>"
      ],
      "text/plain": [
       "               Year         Total          Coal           Oil           Gas  \\\n",
       "count  63104.000000  62904.000000  21744.000000  21717.000000  21618.000000   \n",
       "mean    1885.500000     55.224788     73.968916     55.760624     23.504285   \n",
       "std       78.519728    824.845435    598.986992    519.034563    247.674772   \n",
       "min     1750.000000      0.000000      0.000000      0.000000      0.000000   \n",
       "25%     1817.750000      0.000000      0.000000      0.091600      0.000000   \n",
       "50%     1885.500000      0.000000      0.271852      1.044240      0.000000   \n",
       "75%     1953.250000      0.549342      6.736411      8.339752      0.581628   \n",
       "max     2021.000000  37123.850352  15051.512770  12345.653374   7921.829472   \n",
       "\n",
       "             Cement       Flaring        Other    Per Capita  \n",
       "count  20814.000000  21550.000000  1620.000000  18974.000000  \n",
       "mean       4.330443      1.712695    10.951389      4.413363  \n",
       "std       50.305770     16.727067    39.034073     17.432815  \n",
       "min        0.000000      0.000000     0.000000      0.000000  \n",
       "25%        0.000000      0.000000     0.520885      0.197866  \n",
       "50%        0.022756      0.000000     1.255329      1.303949  \n",
       "75%        0.568502      0.000000     4.385471      5.077994  \n",
       "max     1672.592372    439.253991   306.638573    834.192642  "
      ]
     },
     "execution_count": 89,
     "metadata": {},
     "output_type": "execute_result"
    }
   ],
   "source": [
    "df.describe()"
   ]
  },
  {
   "cell_type": "code",
   "execution_count": 90,
   "id": "62b3a139",
   "metadata": {
    "scrolled": true
   },
   "outputs": [
    {
     "data": {
      "text/plain": [
       "Country                   0\n",
       "ISO 3166-1 alpha-3     1632\n",
       "Year                      0\n",
       "Total                   200\n",
       "Coal                  41360\n",
       "Oil                   41387\n",
       "Gas                   41486\n",
       "Cement                42290\n",
       "Flaring               41554\n",
       "Other                 61484\n",
       "Per Capita            44130\n",
       "dtype: int64"
      ]
     },
     "execution_count": 90,
     "metadata": {},
     "output_type": "execute_result"
    }
   ],
   "source": [
    "df.isna().sum()"
   ]
  },
  {
   "cell_type": "code",
   "execution_count": 91,
   "id": "043f8ed6",
   "metadata": {
    "scrolled": false
   },
   "outputs": [
    {
     "data": {
      "text/plain": [
       "(63104, 11)"
      ]
     },
     "execution_count": 91,
     "metadata": {},
     "output_type": "execute_result"
    }
   ],
   "source": [
    "df.shape"
   ]
  },
  {
   "cell_type": "code",
   "execution_count": 92,
   "id": "499e4d4b",
   "metadata": {},
   "outputs": [],
   "source": [
    "df = df.pivot_table(index=['Country', 'ISO 3166-1 alpha-3'], aggfunc='mean').reset_index()"
   ]
  },
  {
   "cell_type": "code",
   "execution_count": 93,
   "id": "9cf1657c",
   "metadata": {},
   "outputs": [
    {
     "data": {
      "text/plain": [
       "Country                 0\n",
       "ISO 3166-1 alpha-3      0\n",
       "Cement                  1\n",
       "Coal                    1\n",
       "Flaring                 1\n",
       "Gas                     1\n",
       "Oil                     0\n",
       "Other                 179\n",
       "Per Capita              1\n",
       "Total                   0\n",
       "Year                    0\n",
       "dtype: int64"
      ]
     },
     "execution_count": 93,
     "metadata": {},
     "output_type": "execute_result"
    }
   ],
   "source": [
    "df.isna().sum()"
   ]
  },
  {
   "cell_type": "code",
   "execution_count": 94,
   "id": "8e15165f",
   "metadata": {},
   "outputs": [],
   "source": [
    "df['Other'] = df['Other'].fillna(df['Other'].mean())"
   ]
  },
  {
   "cell_type": "code",
   "execution_count": 95,
   "id": "eca4cd65",
   "metadata": {},
   "outputs": [
    {
     "data": {
      "text/plain": [
       "Country               0\n",
       "ISO 3166-1 alpha-3    0\n",
       "Cement                1\n",
       "Coal                  1\n",
       "Flaring               1\n",
       "Gas                   1\n",
       "Oil                   0\n",
       "Other                 0\n",
       "Per Capita            1\n",
       "Total                 0\n",
       "Year                  0\n",
       "dtype: int64"
      ]
     },
     "execution_count": 95,
     "metadata": {},
     "output_type": "execute_result"
    }
   ],
   "source": [
    "df.isna().sum()"
   ]
  },
  {
   "cell_type": "code",
   "execution_count": 96,
   "id": "1a93b9cb",
   "metadata": {},
   "outputs": [],
   "source": [
    "df.dropna(axis=0, inplace=True)"
   ]
  },
  {
   "cell_type": "code",
   "execution_count": 97,
   "id": "10f6fdaf",
   "metadata": {},
   "outputs": [],
   "source": [
    "df.drop(['Year', 'Per Capita'], axis=1, inplace=True)"
   ]
  },
  {
   "cell_type": "code",
   "execution_count": 98,
   "id": "148fd179",
   "metadata": {},
   "outputs": [
    {
     "data": {
      "text/plain": [
       "Country               0\n",
       "ISO 3166-1 alpha-3    0\n",
       "Cement                0\n",
       "Coal                  0\n",
       "Flaring               0\n",
       "Gas                   0\n",
       "Oil                   0\n",
       "Other                 0\n",
       "Total                 0\n",
       "dtype: int64"
      ]
     },
     "execution_count": 98,
     "metadata": {},
     "output_type": "execute_result"
    }
   ],
   "source": [
    "df.isna().isna().sum()"
   ]
  },
  {
   "cell_type": "code",
   "execution_count": 99,
   "id": "58a948d5",
   "metadata": {},
   "outputs": [],
   "source": [
    "corr = df.corr()"
   ]
  },
  {
   "cell_type": "code",
   "execution_count": 100,
   "id": "81f24eea",
   "metadata": {},
   "outputs": [
    {
     "data": {
      "text/plain": [
       "<AxesSubplot:>"
      ]
     },
     "execution_count": 100,
     "metadata": {},
     "output_type": "execute_result"
    },
    {
     "data": {
      "image/png": "[encoded data removed]",
      "text/plain": [
       "<Figure size 432x288 with 2 Axes>"
      ]
     },
     "metadata": {},
     "output_type": "display_data"
    }
   ],
   "source": [
    "sns.heatmap(corr)"
   ]
  },
  {
   "cell_type": "code",
   "execution_count": 101,
   "id": "6ec252d9",
   "metadata": {
    "scrolled": false
   },
   "outputs": [
    {
     "data": {
      "text/html": [
       "<div>\n",
       "<style scoped>\n",
       "    .dataframe tbody tr th:only-of-type {\n",
       "        vertical-align: middle;\n",
       "    }\n",
       "\n",
       "    .dataframe tbody tr th {\n",
       "        vertical-align: top;\n",
       "    }\n",
       "\n",
       "    .dataframe thead th {\n",
       "        text-align: right;\n",
       "    }\n",
       "</style>\n",
       "<table border=\"1\" class=\"dataframe\">\n",
       "  <thead>\n",
       "    <tr style=\"text-align: right;\">\n",
       "      <th></th>\n",
       "      <th>Country</th>\n",
       "      <th>Total</th>\n",
       "    </tr>\n",
       "  </thead>\n",
       "  <tbody>\n",
       "    <tr>\n",
       "      <th>77</th>\n",
       "      <td>Global</td>\n",
       "      <td>6385.772167</td>\n",
       "    </tr>\n",
       "    <tr>\n",
       "      <th>212</th>\n",
       "      <td>USA</td>\n",
       "      <td>1551.128144</td>\n",
       "    </tr>\n",
       "    <tr>\n",
       "      <th>41</th>\n",
       "      <td>China</td>\n",
       "      <td>916.738300</td>\n",
       "    </tr>\n",
       "    <tr>\n",
       "      <th>166</th>\n",
       "      <td>Russia</td>\n",
       "      <td>432.160410</td>\n",
       "    </tr>\n",
       "    <tr>\n",
       "      <th>75</th>\n",
       "      <td>Germany</td>\n",
       "      <td>342.979793</td>\n",
       "    </tr>\n",
       "    <tr>\n",
       "      <th>216</th>\n",
       "      <td>United Kingdom</td>\n",
       "      <td>288.635000</td>\n",
       "    </tr>\n",
       "    <tr>\n",
       "      <th>100</th>\n",
       "      <td>Japan</td>\n",
       "      <td>245.261336</td>\n",
       "    </tr>\n",
       "    <tr>\n",
       "      <th>91</th>\n",
       "      <td>India</td>\n",
       "      <td>209.946281</td>\n",
       "    </tr>\n",
       "    <tr>\n",
       "      <th>69</th>\n",
       "      <td>France</td>\n",
       "      <td>143.771195</td>\n",
       "    </tr>\n",
       "    <tr>\n",
       "      <th>36</th>\n",
       "      <td>Canada</td>\n",
       "      <td>125.424248</td>\n",
       "    </tr>\n",
       "  </tbody>\n",
       "</table>\n",
       "</div>"
      ],
      "text/plain": [
       "            Country        Total\n",
       "77           Global  6385.772167\n",
       "212             USA  1551.128144\n",
       "41            China   916.738300\n",
       "166          Russia   432.160410\n",
       "75          Germany   342.979793\n",
       "216  United Kingdom   288.635000\n",
       "100           Japan   245.261336\n",
       "91            India   209.946281\n",
       "69           France   143.771195\n",
       "36           Canada   125.424248"
      ]
     },
     "execution_count": 101,
     "metadata": {},
     "output_type": "execute_result"
    }
   ],
   "source": [
    "df[['Country', 'Total']].sort_values(by=['Total'], ascending=False).head(10)"
   ]
  },
  {
   "cell_type": "code",
   "execution_count": 102,
   "id": "4c8c817d",
   "metadata": {
    "scrolled": true
   },
   "outputs": [],
   "source": [
    "df.sort_values(by=['Total'], ascending=False, inplace=True)"
   ]
  },
  {
   "cell_type": "code",
   "execution_count": 103,
   "id": "947491b7",
   "metadata": {},
   "outputs": [
    {
     "data": {
      "text/plain": [
       "<BarContainer object of 9 artists>"
      ]
     },
     "execution_count": 103,
     "metadata": {},
     "output_type": "execute_result"
    },
    {
     "data": {
      "image/png": "[encoded data removed]",
      "text/plain": [
       "<Figure size 1080x576 with 1 Axes>"
      ]
     },
     "metadata": {},
     "output_type": "display_data"
    }
   ],
   "source": [
    "ybar = df['Total'].head(10)[1:]\n",
    "xbar = df['Country'].head(10)[1:]\n",
    "plt.figure(figsize=(15,8))\n",
    "plt.barh(xbar, ybar)"
   ]
  },
  {
   "cell_type": "code",
   "execution_count": 105,
   "id": "fd290d2a",
   "metadata": {},
   "outputs": [
    {
     "data": {
      "text/plain": [
       "<seaborn.axisgrid.FacetGrid at 0x219322f8e0>"
      ]
     },
     "execution_count": 105,
     "metadata": {},
     "output_type": "execute_result"
    },
    {
     "data": {
      "image/png": "[encoded data removed]",
      "text/plain": [
       "<Figure size 1080x360 with 1 Axes>"
      ]
     },
     "metadata": {},
     "output_type": "display_data"
    }
   ],
   "source": [
    "sns.catplot(x=\"Country\", y=\"Total\", kind=\"bar\", data=df.head(11)[1:],height=5, aspect=27/9)"
   ]
  },
  {
   "cell_type": "code",
   "execution_count": 106,
   "id": "b75ebc1b",
   "metadata": {},
   "outputs": [
    {
     "data": {
      "text/plain": [
       "<seaborn.axisgrid.FacetGrid at 0x2199b4c9a0>"
      ]
     },
     "execution_count": 106,
     "metadata": {},
     "output_type": "execute_result"
    },
    {
     "data": {
      "image/png": "[encoded data removed]",
      "text/plain": [
       "<Figure size 1296x432 with 1 Axes>"
      ]
     },
     "metadata": {},
     "output_type": "display_data"
    }
   ],
   "source": [
    "sns.catplot(x=\"Country\", y=\"Total\", kind=\"bar\", data=df.tail(11)[1:],height=6, aspect=27/9)"
   ]
  },
  {
   "cell_type": "code",
   "execution_count": 113,
   "id": "9b52209b",
   "metadata": {},
   "outputs": [
    {
     "data": {
      "text/plain": [
       "<AxesSubplot:ylabel='Total'>"
      ]
     },
     "execution_count": 113,
     "metadata": {},
     "output_type": "execute_result"
    },
    {
     "data": {
      "image/png": "[encoded data removed]",
      "text/plain": [
       "<Figure size 432x288 with 1 Axes>"
      ]
     },
     "metadata": {},
     "output_type": "display_data"
    }
   ],
   "source": [
    "df.head()[1:].plot(kind='pie', y='Total')"
   ]
  },
  {
   "cell_type": "code",
   "execution_count": 120,
   "id": "64f4bcb5",
   "metadata": {},
   "outputs": [
    {
     "data": {
      "text/html": [
       "<div>\n",
       "<style scoped>\n",
       "    .dataframe tbody tr th:only-of-type {\n",
       "        vertical-align: middle;\n",
       "    }\n",
       "\n",
       "    .dataframe tbody tr th {\n",
       "        vertical-align: top;\n",
       "    }\n",
       "\n",
       "    .dataframe thead th {\n",
       "        text-align: right;\n",
       "    }\n",
       "</style>\n",
       "<table border=\"1\" class=\"dataframe\">\n",
       "  <thead>\n",
       "    <tr style=\"text-align: right;\">\n",
       "      <th></th>\n",
       "      <th>Country</th>\n",
       "      <th>ISO 3166-1 alpha-3</th>\n",
       "      <th>Cement</th>\n",
       "      <th>Coal</th>\n",
       "      <th>Flaring</th>\n",
       "      <th>Gas</th>\n",
       "      <th>Oil</th>\n",
       "      <th>Other</th>\n",
       "      <th>Total</th>\n",
       "    </tr>\n",
       "  </thead>\n",
       "  <tbody>\n",
       "    <tr>\n",
       "      <th>77</th>\n",
       "      <td>Global</td>\n",
       "      <td>WLD</td>\n",
       "      <td>317.372713</td>\n",
       "      <td>2956.581079</td>\n",
       "      <td>256.309522</td>\n",
       "      <td>1814.698722</td>\n",
       "      <td>3625.609201</td>\n",
       "      <td>251.782569</td>\n",
       "      <td>6385.772167</td>\n",
       "    </tr>\n",
       "    <tr>\n",
       "      <th>212</th>\n",
       "      <td>USA</td>\n",
       "      <td>USA</td>\n",
       "      <td>19.688948</td>\n",
       "      <td>790.292747</td>\n",
       "      <td>10.906544</td>\n",
       "      <td>353.795241</td>\n",
       "      <td>726.464086</td>\n",
       "      <td>12.095011</td>\n",
       "      <td>1551.128144</td>\n",
       "    </tr>\n",
       "    <tr>\n",
       "      <th>41</th>\n",
       "      <td>China</td>\n",
       "      <td>CHN</td>\n",
       "      <td>166.572469</td>\n",
       "      <td>1626.725321</td>\n",
       "      <td>0.566013</td>\n",
       "      <td>59.190177</td>\n",
       "      <td>285.054076</td>\n",
       "      <td>79.025024</td>\n",
       "      <td>916.738300</td>\n",
       "    </tr>\n",
       "    <tr>\n",
       "      <th>166</th>\n",
       "      <td>Russia</td>\n",
       "      <td>RUS</td>\n",
       "      <td>18.232680</td>\n",
       "      <td>268.067489</td>\n",
       "      <td>8.743808</td>\n",
       "      <td>206.201261</td>\n",
       "      <td>195.410694</td>\n",
       "      <td>17.390770</td>\n",
       "      <td>432.160410</td>\n",
       "    </tr>\n",
       "    <tr>\n",
       "      <th>75</th>\n",
       "      <td>Germany</td>\n",
       "      <td>DEU</td>\n",
       "      <td>12.836241</td>\n",
       "      <td>281.155839</td>\n",
       "      <td>0.406843</td>\n",
       "      <td>31.205468</td>\n",
       "      <td>86.316148</td>\n",
       "      <td>9.203392</td>\n",
       "      <td>342.979793</td>\n",
       "    </tr>\n",
       "    <tr>\n",
       "      <th>...</th>\n",
       "      <td>...</td>\n",
       "      <td>...</td>\n",
       "      <td>...</td>\n",
       "      <td>...</td>\n",
       "      <td>...</td>\n",
       "      <td>...</td>\n",
       "      <td>...</td>\n",
       "      <td>...</td>\n",
       "      <td>...</td>\n",
       "    </tr>\n",
       "    <tr>\n",
       "      <th>169</th>\n",
       "      <td>Saint Helena</td>\n",
       "      <td>SHN</td>\n",
       "      <td>0.000000</td>\n",
       "      <td>0.000000</td>\n",
       "      <td>0.000000</td>\n",
       "      <td>0.000000</td>\n",
       "      <td>0.009524</td>\n",
       "      <td>9.528143</td>\n",
       "      <td>0.001471</td>\n",
       "    </tr>\n",
       "    <tr>\n",
       "      <th>147</th>\n",
       "      <td>Niue</td>\n",
       "      <td>NIU</td>\n",
       "      <td>0.000000</td>\n",
       "      <td>0.000000</td>\n",
       "      <td>0.000000</td>\n",
       "      <td>0.000000</td>\n",
       "      <td>0.005807</td>\n",
       "      <td>9.528143</td>\n",
       "      <td>0.001110</td>\n",
       "    </tr>\n",
       "    <tr>\n",
       "      <th>211</th>\n",
       "      <td>Tuvalu</td>\n",
       "      <td>TUV</td>\n",
       "      <td>0.000000</td>\n",
       "      <td>0.000000</td>\n",
       "      <td>0.000000</td>\n",
       "      <td>0.000000</td>\n",
       "      <td>0.008963</td>\n",
       "      <td>9.528143</td>\n",
       "      <td>0.001054</td>\n",
       "    </tr>\n",
       "    <tr>\n",
       "      <th>163</th>\n",
       "      <td>Puerto Rico</td>\n",
       "      <td>PRI</td>\n",
       "      <td>0.000000</td>\n",
       "      <td>0.000000</td>\n",
       "      <td>0.000000</td>\n",
       "      <td>0.000000</td>\n",
       "      <td>0.208848</td>\n",
       "      <td>9.528143</td>\n",
       "      <td>0.000768</td>\n",
       "    </tr>\n",
       "    <tr>\n",
       "      <th>6</th>\n",
       "      <td>Antarctica</td>\n",
       "      <td>ATA</td>\n",
       "      <td>0.000000</td>\n",
       "      <td>0.000000</td>\n",
       "      <td>0.000000</td>\n",
       "      <td>0.000000</td>\n",
       "      <td>0.007328</td>\n",
       "      <td>9.528143</td>\n",
       "      <td>0.000566</td>\n",
       "    </tr>\n",
       "  </tbody>\n",
       "</table>\n",
       "<p>225 rows × 9 columns</p>\n",
       "</div>"
      ],
      "text/plain": [
       "          Country ISO 3166-1 alpha-3      Cement         Coal     Flaring  \\\n",
       "77         Global                WLD  317.372713  2956.581079  256.309522   \n",
       "212           USA                USA   19.688948   790.292747   10.906544   \n",
       "41          China                CHN  166.572469  1626.725321    0.566013   \n",
       "166        Russia                RUS   18.232680   268.067489    8.743808   \n",
       "75        Germany                DEU   12.836241   281.155839    0.406843   \n",
       "..            ...                ...         ...          ...         ...   \n",
       "169  Saint Helena                SHN    0.000000     0.000000    0.000000   \n",
       "147          Niue                NIU    0.000000     0.000000    0.000000   \n",
       "211        Tuvalu                TUV    0.000000     0.000000    0.000000   \n",
       "163   Puerto Rico                PRI    0.000000     0.000000    0.000000   \n",
       "6      Antarctica                ATA    0.000000     0.000000    0.000000   \n",
       "\n",
       "             Gas          Oil       Other        Total  \n",
       "77   1814.698722  3625.609201  251.782569  6385.772167  \n",
       "212   353.795241   726.464086   12.095011  1551.128144  \n",
       "41     59.190177   285.054076   79.025024   916.738300  \n",
       "166   206.201261   195.410694   17.390770   432.160410  \n",
       "75     31.205468    86.316148    9.203392   342.979793  \n",
       "..           ...          ...         ...          ...  \n",
       "169     0.000000     0.009524    9.528143     0.001471  \n",
       "147     0.000000     0.005807    9.528143     0.001110  \n",
       "211     0.000000     0.008963    9.528143     0.001054  \n",
       "163     0.000000     0.208848    9.528143     0.000768  \n",
       "6       0.000000     0.007328    9.528143     0.000566  \n",
       "\n",
       "[225 rows x 9 columns]"
      ]
     },
     "execution_count": 120,
     "metadata": {},
     "output_type": "execute_result"
    }
   ],
   "source": [
    "df"
   ]
  }
 ],
 "metadata": {
  "kernelspec": {
   "display_name": "Python 3 (ipykernel)",
   "language": "python",
   "name": "python3"
  },
  "language_info": {
   "codemirror_mode": {
    "name": "ipython",
    "version": 3
   },
   "file_extension": ".py",
   "mimetype": "text/x-python",
   "name": "python",
   "nbconvert_exporter": "python",
   "pygments_lexer": "ipython3",
   "version": "3.9.7"
  }
 },
 "nbformat": 4,
 "nbformat_minor": 5
}
